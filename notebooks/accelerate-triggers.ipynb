{
 "cells": [
  {
   "cell_type": "code",
   "execution_count": 1,
   "metadata": {},
   "outputs": [
    {
     "name": "stdout",
     "output_type": "stream",
     "text": [
      "c:\\Users\\amine.barkaoui\\OneDrive - World Food Programme\\Documents\\GitHub\\anticipatory-action\n"
     ]
    },
    {
     "name": "stderr",
     "output_type": "stream",
     "text": [
      "c:\\Users\\amine.barkaoui\\AppData\\Local\\miniconda3\\envs\\aa-env\\lib\\site-packages\\scipy\\__init__.py:146: UserWarning: A NumPy version >=1.16.5 and <1.23.0 is required for this version of SciPy (detected version 1.26.3\n",
      "  warnings.warn(f\"A NumPy version >={np_minversion} and <{np_maxversion}\"\n",
      "INFO:root:Set disk cache path.\n"
     ]
    }
   ],
   "source": [
    "%cd ../\n",
    "import numpy as np \n",
    "import pandas as pd\n",
    "import xarray as xr\n",
    "\n",
    "from scipy.optimize import brute\n",
    "from sklearn.metrics import confusion_matrix\n",
    "from triggers import TOLERANCE, GENERAL_T, NON_REGRET_T"
   ]
  },
  {
   "cell_type": "markdown",
   "metadata": {},
   "source": [
    "### Original method / function"
   ]
  },
  {
   "cell_type": "code",
   "execution_count": 1,
   "metadata": {},
   "outputs": [],
   "source": [
    "def objective(\n",
    "    t,\n",
    "    obs_val,\n",
    "    obs_bool,\n",
    "    prob_issue0,\n",
    "    prob_issue1,\n",
    "    leadtime,\n",
    "    issue,\n",
    "    category,\n",
    "    vulnerability,\n",
    "    end_season=5,\n",
    "    penalty=1e6,\n",
    "    alpha=10e-3,\n",
    "    sorting=False,\n",
    "):\n",
    "    if leadtime <= end_season:\n",
    "        obs_val = obs_val[1:]\n",
    "        obs_bool = obs_bool[1:]\n",
    "        prob_issue0 = prob_issue0[:-1]\n",
    "        prob_issue1 = prob_issue1[:-1]\n",
    "\n",
    "    prediction = np.logical_and(prob_issue0 > t[0], prob_issue1 > t[1])\n",
    "\n",
    "    cm = confusion_matrix(obs_bool, prediction, labels=[0, 1])\n",
    "    _, false, fn, hits = cm.ravel()\n",
    "\n",
    "    number_actions = np.sum(prediction)\n",
    "\n",
    "    far = false / (false + hits)\n",
    "    false_tol = np.sum(prediction & (obs_val > TOLERANCE[category]))\n",
    "    hit_rate = hits / (hits + fn)\n",
    "    success_rate = hits + false - false_tol\n",
    "    failure_rate = false_tol\n",
    "\n",
    "    freq = number_actions / len(obs_val)\n",
    "    return_period = np.round(1 / freq if freq != 0 else 0, 0)\n",
    "\n",
    "    requirements = GENERAL_T if vulnerability == \"GT\" else NON_REGRET_T\n",
    "\n",
    "    constraints = [\n",
    "        hit_rate >= requirements[\"HR\"],\n",
    "        success_rate >= (requirements[\"SR\"] * number_actions),\n",
    "        failure_rate <= (requirements[\"FR\"] * number_actions),\n",
    "        return_period >= requirements[\"RP\"][category],\n",
    "        (leadtime - (issue + 1)) % 12 > 1,\n",
    "    ]\n",
    "\n",
    "    if not sorting:\n",
    "        if not (all(constraints)):\n",
    "            return penalty\n",
    "        else:\n",
    "            return -hit_rate + alpha * far\n",
    "    else:\n",
    "        return -hit_rate, failure_rate / number_actions"
   ]
  },
  {
   "cell_type": "code",
   "execution_count": 4,
   "metadata": {},
   "outputs": [],
   "source": [
    "def find_optimal_triggers(\n",
    "    observations_bool,\n",
    "    observations_val,\n",
    "    prob_issue0,\n",
    "    prob_issue1,\n",
    "    lead_time,\n",
    "    issue,\n",
    "    category,\n",
    "    vulnerability,\n",
    "):\n",
    "    # Define grid\n",
    "    threshold_range = (0.0, 1.0)\n",
    "    grid = (\n",
    "        slice(threshold_range[0], threshold_range[1], 0.01),\n",
    "        slice(threshold_range[0], threshold_range[1], 0.01),\n",
    "    )\n",
    "\n",
    "    # Launch research\n",
    "    best_triggers, best_score, _, _ = brute(\n",
    "        objective,\n",
    "        grid,\n",
    "        args=(\n",
    "            observations_val,\n",
    "            observations_bool,\n",
    "            prob_issue0,\n",
    "            prob_issue1,\n",
    "            lead_time,\n",
    "            issue,\n",
    "            category,\n",
    "            vulnerability,\n",
    "        ),\n",
    "        full_output=True,\n",
    "        finish=None,\n",
    "    )\n",
    "\n",
    "    return best_triggers, best_score\n"
   ]
  },
  {
   "cell_type": "code",
   "execution_count": 5,
   "metadata": {},
   "outputs": [
    {
     "name": "stdout",
     "output_type": "stream",
     "text": [
      "CPU times: total: 5.75 s\n",
      "Wall time: 5.83 s\n"
     ]
    },
    {
     "data": {
      "text/plain": [
       "(array([0.28, 0.12]), -0.745)"
      ]
     },
     "execution_count": 5,
     "metadata": {},
     "output_type": "execute_result"
    }
   ],
   "source": [
    "%%time\n",
    "find_optimal_triggers(\n",
    "    np.array([0,0,1,0,0,0,0,0,0,1,0,0,0,0,0,1,0,0,0,0,0,0,0,1,0,0,0,0,0,0]),\n",
    "    np.array([0,-0.42752841,-1.14785480,1.00835359,1.01152670,0.08140295,1.07925391,2.89334059,0.49650693,-2.10596442,-0.11560103,1.13604414,-0.61310524,0.99173242,-0.80315828,-1.33247614,-0.39426482,-0.69886303,0.70436287,-0.68371397,1.43038058,0.55627447,-0.60290152,-0.89140522,1.09524286,0.35090649,0.65150774,0.17972234,1.73618770,-0.32053682]),   \n",
    "    np.array([0.19403316,0.40413737,0.03950670,0.19867207,0.36617446,0.12769049,0.09033364,0.08100221,0.28882408,0.27224869,0.30656403,0.19762351,0.14381145,0.25782165,0.13781390,0.07984945,0.29496825,0.10694549,0.18244502,0.19856039,0.22373931,0.27777267,0.51857853,0.08000000,0.19938798,0.26805690,0.36049867,0.27718082,0.19917504,0]), \n",
    "    np.array([0.14940780,0.32687554,0.10491829,0.17928207,0.28445852,0.01592254,0.10268304,0.23625106,0.21073855,0.38182610,0.11036947,0.18485942,0.07852152,0.30479109,0.14028412,0.27518070,0.33471456,0.07077074,0.31999999,0.0986679,0.16447723,0.27975520,0.15368882,0.15867205,0.22455618,0.37894413,0.37922379,0.17322889,0.15639387,0]), \n",
    "    1,\n",
    "    10, \n",
    "    'Moderado', \n",
    "    'NRT',\n",
    ")"
   ]
  },
  {
   "cell_type": "markdown",
   "metadata": {},
   "source": [
    "### Numba-optimized way"
   ]
  },
  {
   "cell_type": "code",
   "execution_count": 2,
   "metadata": {},
   "outputs": [],
   "source": [
    "from numba.core import types\n",
    "from numba.typed import Dict\n",
    "\n",
    "# Define some constants\n",
    "# The Dict.empty() constructs a typed dictionary.\n",
    "TOLERANCE2 = Dict.empty(\n",
    "    key_type=types.unicode_type,\n",
    "    value_type=types.f8,\n",
    ")\n",
    "TOLERANCE2['Leve'] = 0; TOLERANCE2['Moderado'] = -0.44; TOLERANCE2['Severo'] = -0.68\n",
    "\n",
    "GENERAL_T2 = Dict.empty(\n",
    "    key_type=types.unicode_type,\n",
    "    value_type=types.f8,\n",
    ")\n",
    "GENERAL_T2['HR'] = 0.5; GENERAL_T2['SR'] = 0.65; GENERAL_T2['FR'] = 0.35; GENERAL_T2['RP'] = 4.\n",
    "\n",
    "NON_REGRET_T2 = Dict.empty(\n",
    "    key_type=types.unicode_type,\n",
    "    value_type=types.f8,\n",
    ")\n",
    "NON_REGRET_T2['HR']=0.65; NON_REGRET_T2['SR']=0.55; NON_REGRET_T2['FR']=0.45; NON_REGRET_T2['RP'] = 3."
   ]
  },
  {
   "cell_type": "code",
   "execution_count": 1,
   "metadata": {},
   "outputs": [
    {
     "name": "stderr",
     "output_type": "stream",
     "text": [
      "c:\\Users\\amine.barkaoui\\AppData\\Local\\miniconda3\\envs\\aa-env\\lib\\site-packages\\scipy\\__init__.py:146: UserWarning: A NumPy version >=1.16.5 and <1.23.0 is required for this version of SciPy (detected version 1.26.3\n",
      "  warnings.warn(f\"A NumPy version >={np_minversion} and <{np_maxversion}\"\n"
     ]
    }
   ],
   "source": [
    "from numba import jit, float64, float32, int16, boolean\n",
    "from numba.experimental import jitclass\n",
    "\n",
    "@jit(nopython=True, cache=True)\n",
    "def _compute_confusion_matrix(true, pred):\n",
    "  '''\n",
    "  Computes a confusion matrix using numpy for two np.arrays\n",
    "  true and pred.\n",
    "\n",
    "  Results are identical (and similar in computation time) to: \n",
    "    \"from sklearn.metrics import confusion_matrix\"\n",
    "\n",
    "  However, this function avoids the dependency on sklearn and \n",
    "  allows to use numba in nopython mode.\n",
    "  '''\n",
    "\n",
    "  K = len(np.unique(true)) # Number of classes \n",
    "  result = np.zeros((K, K))\n",
    "\n",
    "  for i in range(len(true)):\n",
    "    result[true[i]][pred[i]] += 1\n",
    "\n",
    "  return result\n",
    "\n",
    "@jit(\n",
    "#    float64(float32[:], float32[:], int16[:], float32[:], float32[:], int16, int16, types.unicode_type, types.unicode_type, int16, float64, float64),\n",
    "    nopython=True, \n",
    "    cache=True,\n",
    ")\n",
    "def objective_numba(\n",
    "    t,\n",
    "    obs_val,\n",
    "    obs_bool,\n",
    "    prob_issue0,\n",
    "    prob_issue1,\n",
    "    leadtime,\n",
    "    issue,\n",
    "    category,\n",
    "    vulnerability,\n",
    "    tolerance,\n",
    "    general_req,\n",
    "    non_regret_req,\n",
    "    end_season=5,\n",
    "    penalty=1e6,\n",
    "    alpha=10e-3,\n",
    "    sorting=False,\n",
    "):\n",
    "    if leadtime <= end_season:\n",
    "        obs_val = obs_val[1:]\n",
    "        obs_bool = obs_bool[1:]\n",
    "        prob_issue0 = prob_issue0[:-1]\n",
    "        prob_issue1 = prob_issue1[:-1]\n",
    "    \n",
    "    prediction = np.logical_and(prob_issue0 > t[0], prob_issue1 > t[1]).astype(np.int16)\n",
    "\n",
    "    cm = _compute_confusion_matrix(obs_bool, prediction)\n",
    "    _, false, fn, hits = cm.ravel()\n",
    "\n",
    "    number_actions = np.sum(prediction)\n",
    "\n",
    "    far = false / (false + hits + alpha)\n",
    "    false_tol = np.sum(prediction & (obs_val > tolerance[category]))\n",
    "    hit_rate = hits / (hits + fn)\n",
    "    success_rate = hits + false - false_tol\n",
    "    failure_rate = false_tol\n",
    "    \n",
    "    freq = number_actions / len(obs_val)\n",
    "    return_period = np.round(1 / freq if freq != 0 else 0, 0)\n",
    "    \n",
    "    requirements = general_req if vulnerability == \"GT\" else non_regret_req\n",
    "    req_RP = requirements['RP'] + 1 * (category[0]=='M') + 2 * (category[0]=='S')\n",
    "    \n",
    "    constraints = np.array([\n",
    "        hit_rate >= requirements[\"HR\"],\n",
    "        success_rate >= (requirements[\"SR\"] * number_actions),\n",
    "        failure_rate <= (requirements[\"FR\"] * number_actions),\n",
    "        return_period >= req_RP,\n",
    "        (leadtime - (issue + 1)) % 12 > 1,\n",
    "    ]).astype(np.int16)\n",
    "    \n",
    "    if sorting:\n",
    "        return [-hit_rate, failure_rate / number_actions]\n",
    "    else:\n",
    "      if np.all(constraints):\n",
    "          return [-hit_rate + alpha * far]\n",
    "      else:\n",
    "          return [penalty]"
   ]
  },
  {
   "cell_type": "code",
   "execution_count": 6,
   "metadata": {},
   "outputs": [],
   "source": [
    "@jit(nopython=True)\n",
    "def make_grid(arraylist):\n",
    "    n = len(arraylist)\n",
    "    k = arraylist[0].shape[0]\n",
    "    a2d = np.zeros((n, k, k))\n",
    "    for i in range(n):\n",
    "        a2d[i] = arraylist[i]\n",
    "    return(a2d)\n",
    "\n",
    "@jit(nopython=True)\n",
    "def meshxy(x, y):\n",
    "    xx = np.empty(shape=(x.size, y.size), dtype=x.dtype)\n",
    "    yy = np.empty(shape=(x.size, y.size), dtype=y.dtype)\n",
    "    for i in range(y.size):\n",
    "        for j in range(x.size):\n",
    "            xx[i,j] = x[j]  # change to x[j] if indexing xy\n",
    "            yy[i,j] = y[i]  # change to y[i] if indexing xy\n",
    "    return xx, yy\n",
    "\n",
    "#@jit(nopython=True)\n",
    "def brute_numba(func, lrange, args=()):\n",
    "    assert len(lrange) == 2\n",
    "    \n",
    "    x, y = meshxy(*lrange)\n",
    "    grid = make_grid([x, y])\n",
    "\n",
    "    # obtain an array of parameters that is iterable by a map-like callable\n",
    "    inpt_shape = np.array(grid.shape)\n",
    "    grid = np.reshape(grid, (inpt_shape[0], np.prod(inpt_shape[1:]))).T\n",
    "    \n",
    "    # iterate over input arrays\n",
    "    Jout = np.array([\n",
    "        func(np.asarray(candidate).flatten(), *args)\n",
    "        for candidate in grid\n",
    "    ])\n",
    "    \n",
    "    Jout = np.reshape(Jout, (inpt_shape[1], inpt_shape[2]))\n",
    "    grid = np.reshape(grid.T, (inpt_shape[0], inpt_shape[1], inpt_shape[2]))\n",
    "   \n",
    "    Nshape = np.shape(Jout) \n",
    "    indx = np.argmin(Jout.ravel())\n",
    "    Nindx = np.empty(2, dtype=np.uint8)    \n",
    "    Nindx[1] = indx % Nshape[1]\n",
    "    indx = indx // Nshape[1]\n",
    "    Nindx[0] = indx % Nshape[0]\n",
    "\n",
    "    xmin = np.array([grid[k][Nindx[0], Nindx[1]] for k in range(2)])\n",
    "\n",
    "    Jmin = Jout[Nindx[0], Nindx[1]]\n",
    "\n",
    "    return xmin, Jmin"
   ]
  },
  {
   "cell_type": "code",
   "execution_count": 2,
   "metadata": {},
   "outputs": [],
   "source": [
    "def find_optimal_triggers_numba(\n",
    "    observations_bool,\n",
    "    observations_val,\n",
    "    prob_issue0,\n",
    "    prob_issue1,\n",
    "    lead_time,\n",
    "    issue,\n",
    "    category,\n",
    "    vulnerability,\n",
    "):\n",
    "    # Define grid\n",
    "    threshold_range = (0.0, 1.0)\n",
    "    grid = (\n",
    "        np.arange(threshold_range[0], threshold_range[1], step=0.01),\n",
    "        np.arange(threshold_range[0], threshold_range[1], step=0.01),\n",
    "    )\n",
    "    \n",
    "    # Launch research\n",
    "    best_triggers, best_score = brute_numba(\n",
    "        objective_numba,\n",
    "        grid,\n",
    "        args=(\n",
    "            observations_val,\n",
    "            observations_bool,\n",
    "            prob_issue0,\n",
    "            prob_issue1,\n",
    "            lead_time,\n",
    "            issue,\n",
    "            category,\n",
    "            vulnerability,\n",
    "            TOLERANCE2,\n",
    "            GENERAL_T2,\n",
    "            NON_REGRET_T2,\n",
    "        ),\n",
    "    )\n",
    "\n",
    "    return best_triggers, best_score"
   ]
  },
  {
   "cell_type": "code",
   "execution_count": 7,
   "metadata": {},
   "outputs": [
    {
     "name": "stdout",
     "output_type": "stream",
     "text": [
      "CPU times: total: 3.84 s\n",
      "Wall time: 3.9 s\n"
     ]
    },
    {
     "data": {
      "text/plain": [
       "(array([0.28, 0.12]), -0.7450083194675541)"
      ]
     },
     "execution_count": 7,
     "metadata": {},
     "output_type": "execute_result"
    }
   ],
   "source": [
    "%%time\n",
    "find_optimal_triggers_numba(\n",
    "    np.array([0,0,1,0,0,0,0,0,0,1,0,0,0,0,0,1,0,0,0,0,0,0,0,1,0,0,0,0,0,0]),\n",
    "    np.array([0,-0.42752841,-1.14785480,1.00835359,1.01152670,0.08140295,1.07925391,2.89334059,0.49650693,-2.10596442,-0.11560103,1.13604414,-0.61310524,0.99173242,-0.80315828,-1.33247614,-0.39426482,-0.69886303,0.70436287,-0.68371397,1.43038058,0.55627447,-0.60290152,-0.89140522,1.09524286,0.35090649,0.65150774,0.17972234,1.73618770,-0.32053682]),   \n",
    "    np.array([0.19403316,0.40413737,0.03950670,0.19867207,0.36617446,0.12769049,0.09033364,0.08100221,0.28882408,0.27224869,0.30656403,0.19762351,0.14381145,0.25782165,0.13781390,0.07984945,0.29496825,0.10694549,0.18244502,0.19856039,0.22373931,0.27777267,0.51857853,0.08000000,0.19938798,0.26805690,0.36049867,0.27718082,0.19917504,0]), \n",
    "    np.array([0.14940780,0.32687554,0.10491829,0.17928207,0.28445852,0.01592254,0.10268304,0.23625106,0.21073855,0.38182610,0.11036947,0.18485942,0.07852152,0.30479109,0.14028412,0.27518070,0.33471456,0.07077074,0.31999999,0.0986679,0.16447723,0.27975520,0.15368882,0.15867205,0.22455618,0.37894413,0.37922379,0.17322889,0.15639387,0]), \n",
    "    1,\n",
    "    10, \n",
    "    'Moderado', \n",
    "    'NRT',\n",
    ")"
   ]
  },
  {
   "cell_type": "code",
   "execution_count": null,
   "metadata": {},
   "outputs": [],
   "source": []
  },
  {
   "cell_type": "code",
   "execution_count": null,
   "metadata": {},
   "outputs": [],
   "source": []
  },
  {
   "cell_type": "code",
   "execution_count": null,
   "metadata": {},
   "outputs": [],
   "source": []
  },
  {
   "cell_type": "markdown",
   "metadata": {},
   "source": [
    "### Test"
   ]
  },
  {
   "cell_type": "code",
   "execution_count": 4,
   "metadata": {},
   "outputs": [],
   "source": [
    "def test_find_optimal_triggers_guija():\n",
    "    result, _ = find_optimal_triggers(\n",
    "        np.array([0,0,1,0,0,0,0,0,0,1,0,0,0,0,0,1,0,0,0,0,0,0,0,1,0,0,0,0,0,0]),\n",
    "        np.array([0,-0.42752841,-1.14785480,1.00835359,1.01152670,0.08140295,1.07925391,2.89334059,0.49650693,-2.10596442,-0.11560103,1.13604414,-0.61310524,0.99173242,-0.80315828,-1.33247614,-0.39426482,-0.69886303,0.70436287,-0.68371397,1.43038058,0.55627447,-0.60290152,-0.89140522,1.09524286,0.35090649,0.65150774,0.17972234,1.73618770,-0.32053682]),   \n",
    "        np.array([0.19403316,0.40413737,0.03950670,0.19867207,0.36617446,0.12769049,0.09033364,0.08100221,0.28882408,0.27224869,0.30656403,0.19762351,0.14381145,0.25782165,0.13781390,0.07984945,0.29496825,0.10694549,0.18244502,0.19856039,0.22373931,0.27777267,0.51857853,0.08000000,0.19938798,0.26805690,0.36049867,0.27718082,0.19917504,0]), \n",
    "        np.array([0.14940780,0.32687554,0.10491829,0.17928207,0.28445852,0.01592254,0.10268304,0.23625106,0.21073855,0.38182610,0.11036947,0.18485942,0.07852152,0.30479109,0.14028412,0.27518070,0.33471456,0.07077074,0.31999999,0.0986679,0.16447723,0.27975520,0.15368882,0.15867205,0.22455618,0.37894413,0.37922379,0.17322889,0.15639387,0]), \n",
    "        1,\n",
    "        10, \n",
    "        'Moderado', \n",
    "        'NRT',\n",
    "    )\n",
    "    return np.testing.assert_equal(result, np.array([0.28, 0.12]))\n",
    "\n",
    "test_find_optimal_triggers_guija()"
   ]
  }
 ],
 "metadata": {
  "kernelspec": {
   "display_name": "hip-analysis-dev-env",
   "language": "python",
   "name": "python3"
  },
  "language_info": {
   "codemirror_mode": {
    "name": "ipython",
    "version": 3
   },
   "file_extension": ".py",
   "mimetype": "text/x-python",
   "name": "python",
   "nbconvert_exporter": "python",
   "pygments_lexer": "ipython3",
   "version": "3.10.13"
  }
 },
 "nbformat": 4,
 "nbformat_minor": 2
}
