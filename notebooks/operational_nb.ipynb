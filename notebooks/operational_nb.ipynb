{
 "cells": [
  {
   "cell_type": "code",
   "execution_count": 1,
   "metadata": {},
   "outputs": [
    {
     "name": "stdout",
     "output_type": "stream",
     "text": [
      "c:\\Users\\amine.barkaoui\\OneDrive - World Food Programme\\Documents\\GitHub\\anticipatory-action\n"
     ]
    },
    {
     "name": "stderr",
     "output_type": "stream",
     "text": [
      "c:\\Users\\amine.barkaoui\\AppData\\Local\\miniconda3\\envs\\aa-env\\lib\\site-packages\\scipy\\__init__.py:146: UserWarning: A NumPy version >=1.16.5 and <1.23.0 is required for this version of SciPy (detected version 1.26.3\n",
      "  warnings.warn(f\"A NumPy version >={np_minversion} and <{np_maxversion}\"\n"
     ]
    }
   ],
   "source": [
    "%cd ../\n",
    "\n",
    "import logging\n",
    "\n",
    "import warnings\n",
    "warnings.simplefilter(action=\"ignore\", category=FutureWarning)\n",
    "\n",
    "from dask.distributed import Client\n",
    "\n",
    "import pandas as pd\n",
    "import geopandas as gpd\n",
    "\n",
    "from config.params import Params\n",
    "\n",
    "from helper_fns import (\n",
    "    read_forecasts_locally,\n",
    "    read_observations_locally,\n",
    ")\n",
    "\n",
    "from hip.analysis.analyses.drought import (\n",
    "    get_accumulation_periods,\n",
    ")\n",
    "\n",
    "from operational import run_full_index_pipeline"
   ]
  },
  {
   "cell_type": "code",
   "execution_count": 2,
   "metadata": {},
   "outputs": [],
   "source": [
    "client = Client()"
   ]
  },
  {
   "cell_type": "code",
   "execution_count": 132,
   "metadata": {},
   "outputs": [],
   "source": [
    "issue = 1"
   ]
  },
  {
   "cell_type": "code",
   "execution_count": 133,
   "metadata": {},
   "outputs": [],
   "source": [
    "params = Params(iso='MOZ', issue=issue, index='SPI')\n",
    "\n",
    "forecasts = read_forecasts_locally(\n",
    "    f\"data/{params.iso}/forecast/{params.iso}_SAB_tp_ecmwf_{str(params.issue).zfill(2)}/*.nc\"\n",
    ")\n",
    "logging.info(f\"Completed reading of forecasts for the whole {params.iso} country\")\n",
    "\n",
    "observations = read_observations_locally(f\"data/{params.iso}/chirps\")\n",
    "logging.info(\n",
    "    f\"Completed reading of observations for the whole {params.iso} country\"\n",
    ")"
   ]
  },
  {
   "cell_type": "code",
   "execution_count": 5,
   "metadata": {},
   "outputs": [],
   "source": [
    "triggers_df = pd.read_csv(f\"data/{params.iso}/outputs/Plots/triggers.aa.python.spi.dryspell.2022.csv\") \n",
    "\n",
    "if params.iso == 'MOZ':\n",
    "    gdf = gpd.read_file(\n",
    "        f\"data/{params.iso}/shapefiles/moz_admbnda_2019_SHP/moz_admbnda_adm2_2019.shp\"\n",
    "    )\n",
    "else:\n",
    "    gdf = gpd.read_file(\n",
    "        f\"data/{params.iso}/shapefiles/global_adm2_wfpGE_UN_final/global_adm2_wfpGE_UN_final.shp\"\n",
    "    )\n",
    "    gdf = gdf.loc[gdf.iso3 == params.iso]"
   ]
  },
  {
   "cell_type": "code",
   "execution_count": 139,
   "metadata": {},
   "outputs": [],
   "source": [
    "# Get accumulation periods (DJ, JF, FM, DJF, JFM...)\n",
    "accumulation_periods = get_accumulation_periods(\n",
    "    forecasts, params.start_season, params.end_season, 2, params.max_index_period\n",
    ")"
   ]
  },
  {
   "cell_type": "code",
   "execution_count": 140,
   "metadata": {},
   "outputs": [
    {
     "data": {
      "text/plain": [
       "{'JF': (1, 2),\n",
       " 'FM': (2, 3),\n",
       " 'MA': (3, 4),\n",
       " 'AM': (4, 5),\n",
       " 'JFM': (1, 2, 3),\n",
       " 'FMA': (2, 3, 4),\n",
       " 'MAM': (3, 4, 5)}"
      ]
     },
     "execution_count": 140,
     "metadata": {},
     "output_type": "execute_result"
    }
   ],
   "source": [
    "accumulation_periods"
   ]
  },
  {
   "cell_type": "code",
   "execution_count": 119,
   "metadata": {},
   "outputs": [
    {
     "name": "stderr",
     "output_type": "stream",
     "text": [
      "c:\\Users\\amine.barkaoui\\AppData\\Local\\miniconda3\\envs\\hip-analysis-dev-env\\lib\\site-packages\\xclim\\sdba\\utils.py:316: RuntimeWarning: All-NaN slice encountered in interp_on_quantiles\n",
      "  warn(\n"
     ]
    }
   ],
   "source": [
    "probs_merged_dataframes = [\n",
    "    # TODO handle distributed computation\n",
    "    run_full_index_pipeline(\n",
    "        forecasts,\n",
    "        observations,\n",
    "        params,\n",
    "        triggers_df,\n",
    "        gdf,\n",
    "        period_name,\n",
    "        period_months,\n",
    "    )\n",
    "    for period_name, period_months in accumulation_periods.items()\n",
    "]\n",
    "logging.info(f\"Completed analysis for the required indexes over MOZ country\")"
   ]
  },
  {
   "cell_type": "code",
   "execution_count": 120,
   "metadata": {},
   "outputs": [],
   "source": [
    "probs_df, merged_df = zip(*probs_merged_dataframes)\n",
    "\n",
    "probs_dashboard = pd.concat(probs_df)\n",
    "probs_dashboard.to_csv(\n",
    "    f\"data/{params.iso}/outputs/Fbf_Pilot_MockUp/SPI_probabilities_season_{params.issue}.csv\",\n",
    "    index=False,\n",
    ")\n",
    "\n",
    "merged_dashboard = pd.concat(merged_df)\n",
    "merged_dashboard.to_csv(\n",
    "    f\"data/{params.iso}/outputs/Fbf_Pilot_MockUp/SPI_probabilities_season_triggers_{params.issue}.csv\",\n",
    "    index=False,\n",
    ")"
   ]
  },
  {
   "cell_type": "code",
   "execution_count": 121,
   "metadata": {},
   "outputs": [],
   "source": [
    "results5 = merged_dashboard"
   ]
  },
  {
   "cell_type": "code",
   "execution_count": 10,
   "metadata": {},
   "outputs": [],
   "source": [
    "results5dry = merged_dashboard"
   ]
  },
  {
   "cell_type": "code",
   "execution_count": 113,
   "metadata": {},
   "outputs": [],
   "source": [
    "results6 = merged_dashboard"
   ]
  },
  {
   "cell_type": "code",
   "execution_count": 18,
   "metadata": {},
   "outputs": [],
   "source": [
    "results6dry = merged_dashboard"
   ]
  },
  {
   "cell_type": "code",
   "execution_count": 105,
   "metadata": {},
   "outputs": [],
   "source": [
    "results7 = merged_dashboard"
   ]
  },
  {
   "cell_type": "code",
   "execution_count": 26,
   "metadata": {},
   "outputs": [],
   "source": [
    "results7dry = merged_dashboard"
   ]
  },
  {
   "cell_type": "code",
   "execution_count": 97,
   "metadata": {},
   "outputs": [],
   "source": [
    "results8 = merged_dashboard"
   ]
  },
  {
   "cell_type": "code",
   "execution_count": 35,
   "metadata": {},
   "outputs": [],
   "source": [
    "results8dry = merged_dashboard"
   ]
  },
  {
   "cell_type": "code",
   "execution_count": 89,
   "metadata": {},
   "outputs": [],
   "source": [
    "results9 = merged_dashboard"
   ]
  },
  {
   "cell_type": "code",
   "execution_count": 43,
   "metadata": {},
   "outputs": [],
   "source": [
    "results9dry = merged_dashboard"
   ]
  },
  {
   "cell_type": "code",
   "execution_count": 60,
   "metadata": {},
   "outputs": [],
   "source": [
    "results10 = merged_dashboard"
   ]
  },
  {
   "cell_type": "code",
   "execution_count": 74,
   "metadata": {},
   "outputs": [],
   "source": [
    "results10dry = merged_dashboard"
   ]
  },
  {
   "cell_type": "code",
   "execution_count": 123,
   "metadata": {},
   "outputs": [
    {
     "name": "stderr",
     "output_type": "stream",
     "text": [
      "2023-10-13 17:58:45,180 - distributed.scheduler - WARNING - Worker failed to heartbeat within 300 seconds. Closing: <WorkerState 'tcp://127.0.0.1:64467', name: 2, status: running, memory: 0, processing: 0>\n",
      "2023-10-13 17:58:45,427 - distributed.scheduler - WARNING - Worker failed to heartbeat within 300 seconds. Closing: <WorkerState 'tcp://127.0.0.1:64471', name: 1, status: running, memory: 0, processing: 0>\n",
      "2023-10-13 17:58:45,482 - distributed.scheduler - WARNING - Received heartbeat from unregistered worker 'tcp://127.0.0.1:64471'.\n",
      "2023-10-13 17:58:45,490 - distributed.scheduler - WARNING - Received heartbeat from unregistered worker 'tcp://127.0.0.1:64467'.\n",
      "2023-10-14 06:12:28,293 - distributed.scheduler - WARNING - Worker failed to heartbeat within 300 seconds. Closing: <WorkerState 'tcp://127.0.0.1:64468', name: 3, status: running, memory: 0, processing: 0>\n",
      "2023-10-14 06:12:28,309 - distributed.scheduler - WARNING - Received heartbeat from unregistered worker 'tcp://127.0.0.1:64468'.\n",
      "2023-10-16 10:09:11,326 - distributed.scheduler - WARNING - Worker failed to heartbeat within 300 seconds. Closing: <WorkerState 'tcp://127.0.0.1:64472', name: 0, status: running, memory: 0, processing: 0>\n",
      "2023-10-16 10:09:11,337 - distributed.scheduler - WARNING - Received heartbeat from unregistered worker 'tcp://127.0.0.1:64472'.\n",
      "2023-10-16 10:09:15,966 - distributed.nanny - WARNING - Restarting worker\n"
     ]
    }
   ],
   "source": [
    "pd.concat([results5, results6, results7, results8, results9, results10, results5dry, results6dry, results7dry, results8dry, results9dry, results10dry]).to_csv(f\"AA/data/{params.iso}/outputs/Fbf_Pilot_MockUp/Python_probabilities_season_triggers.csv\", index=False)"
   ]
  }
 ],
 "metadata": {
  "kernelspec": {
   "display_name": "aa-drought",
   "language": "python",
   "name": "python3"
  },
  "language_info": {
   "codemirror_mode": {
    "name": "ipython",
    "version": 3
   },
   "file_extension": ".py",
   "mimetype": "text/x-python",
   "name": "python",
   "nbconvert_exporter": "python",
   "pygments_lexer": "ipython3",
   "version": "3.10.13"
  },
  "orig_nbformat": 4
 },
 "nbformat": 4,
 "nbformat_minor": 2
}
